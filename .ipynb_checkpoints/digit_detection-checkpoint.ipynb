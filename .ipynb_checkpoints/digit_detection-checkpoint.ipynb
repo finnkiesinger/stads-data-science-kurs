{
 "cells": [
  {
   "cell_type": "code",
   "execution_count": null,
   "id": "4d703db4-152c-44b7-b0f9-7d7992a649aa",
   "metadata": {},
   "outputs": [],
   "source": [
    "from keras.datasets import mnist"
   ]
  },
  {
   "cell_type": "code",
   "execution_count": null,
   "id": "f9aca68b-251d-45b4-90da-4ea23c052c2d",
   "metadata": {},
   "outputs": [],
   "source": []
  }
 ],
 "metadata": {
  "kernelspec": {
   "display_name": "Python 3",
   "language": "python",
   "name": "python3"
  },
  "language_info": {
   "codemirror_mode": {
    "name": "ipython",
    "version": 3
   },
   "file_extension": ".py",
   "mimetype": "text/x-python",
   "name": "python",
   "nbconvert_exporter": "python",
   "pygments_lexer": "ipython3",
   "version": "3.9.5"
  }
 },
 "nbformat": 4,
 "nbformat_minor": 5
}
